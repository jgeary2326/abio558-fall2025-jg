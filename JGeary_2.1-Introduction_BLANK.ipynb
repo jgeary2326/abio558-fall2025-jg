{
 "cells": [
  {
   "cell_type": "markdown",
   "id": "ee7002d8",
   "metadata": {},
   "source": [
    "# 2.1 - Introduction to Jupyter and Python\n",
    "\n",
    "\n",
    "### Learning goals for today\n",
    "1. Create, edit, and run Jupyter notebooks (10 minutes)\n",
    "2. Assign and inspect variables (20 minutes)\n",
    "3. Inspect, understand, and convert Python data types (10 minutes)\n",
    "4. Create, index and manipulate containers (10 minutes)\n",
    "   \n",
    "---\n",
    "### How to use this notebook during class\n",
    "- Follow along as we go\n",
    "- Use your **Cards** to indicate where you're at:\n",
    "    - A **🟩Green card** means you are caught up with Max and **ready to help your classmates**\n",
    "    - A **🟥Red card** means you are stuck and need help\n",
    "- <span style='color:red;'>EXERCISE</span> — work on this problem by yourself, or try with a partner if you get stuck\n",
    "---\n",
    "### Resources and more practice:\n",
    "For this and many future exercises, you can find more guidance at the excellent **software carpentry** website\n",
    "- https://swcarpentry.github.io/python-novice-gapminder/01-run-quit.html\n",
    "- https://swcarpentry.github.io/python-novice-gapminder/02-variables.html\n",
    "- https://swcarpentry.github.io/python-novice-gapminder/03-types-conversion.html"
   ]
  },
  {
   "cell_type": "markdown",
   "id": "171d8494-f581-40ea-88df-8de8f16f17c8",
   "metadata": {},
   "source": [
    "## 1) Getting started with Jupyter Notebooks\n",
    "- A notebook is a mix of **Markdown** (text) and **code** cells.\n",
    "- Click a cell to select it. Press **Shift+Enter** (or the ▶️ button) to **run** it.\n",
    "- To add a new cell: use the **+** button or press **B** (below) or **A** (above).\n",
    "- To delete a cell: use the **🗑️** button on the right, or double-tap **D**\n",
    "- To switch a cell to Markdown: press **M**. To code: press **Y**.\n",
    "- Save your work frequently (**Ctrl/Cmd+S**).\n"
   ]
  },
  {
   "cell_type": "markdown",
   "id": "d30670e2-f0fc-47b1-92b3-e78a0e22678f",
   "metadata": {},
   "source": [
    "### Edit vs. Command mode\n",
    "When a cell is **selected**, it has a blue bar to the left.\n",
    "\n",
    "A **selected** cell can be in one of two modes:\n",
    "1. **Edit** mode: the cell is bounded by a blue box, and has a cursor in it. You can edit text in the cell like in any text editor\n",
    "2. **Command** mode: you can run, move, and delete cells, but you can't type directly into the cell.\n",
    "\n",
    "#### To switch from **Edit** to **Command**: \n",
    "- press **Esc** to switch to **Command** without running the cell\n",
    "- or press **Shift+Enter** to run the cell and select the next cell in **Command** mode\n",
    "\n",
    "#### To switch from **Command** to **Edit**: \n",
    "- Press **Enter** or **double click the cell**"
   ]
  },
  {
   "cell_type": "markdown",
   "id": "26972e04",
   "metadata": {},
   "source": [
    "### <span style='color:red;'>EXERCISE 1</span>: Add a Markdown note (2 minutes)\n",
    "1. Insert a new cell *below* this one (press **B**).\n",
    "2. Switch it to **Markdown** (press **M**).\n",
    "3. Type a short note with a header, e.g. `# My first note`.\n",
    "4. Run it (Shift+Enter).\n"
   ]
  },
  {
   "cell_type": "markdown",
   "id": "ef179687-80a7-4ef9-8847-faa27133583e",
   "metadata": {},
   "source": [
    "### My first note."
   ]
  },
  {
   "cell_type": "markdown",
   "id": "434551a2",
   "metadata": {},
   "source": [
    "Now let's run some code"
   ]
  },
  {
   "cell_type": "code",
   "execution_count": 5,
   "id": "cb6f98cb-2c2f-4329-ab46-20a9bb934737",
   "metadata": {},
   "outputs": [
    {
     "name": "stdout",
     "output_type": "stream",
     "text": [
      "Hello world!\n"
     ]
    }
   ],
   "source": [
    "print('Hello world!')"
   ]
  },
  {
   "cell_type": "markdown",
   "id": "cfda87c7-7e10-43de-acc6-1dce31a7da1a",
   "metadata": {},
   "source": [
    "The above is **Python code**. You can also run some **bash** commands from within Jupyter. Sometimes this just works, as in:\n",
    "\n",
    "`pwd` (print working directory)\n",
    "\n",
    "but you may have to have a `!` prefix to tell Jupyter that what comes next is a bash command, as in:\n",
    "\n",
    "`!pwd`"
   ]
  },
  {
   "cell_type": "code",
   "execution_count": 9,
   "id": "5d4cefbc-09e6-409b-a408-ffaf492887cc",
   "metadata": {},
   "outputs": [
    {
     "data": {
      "text/plain": [
       "'C:\\\\Users\\\\jjag1\\\\Downloads'"
      ]
     },
     "execution_count": 9,
     "metadata": {},
     "output_type": "execute_result"
    }
   ],
   "source": [
    "pwd"
   ]
  },
  {
   "cell_type": "code",
   "execution_count": 10,
   "id": "71133d87-066c-4090-8cf9-3a3916f04ef2",
   "metadata": {},
   "outputs": [
    {
     "name": "stdout",
     "output_type": "stream",
     "text": [
      " Volume in drive C is Windows-SSD\n",
      " Volume Serial Number is DA01-F480\n",
      "\n",
      " Directory of C:\\Users\\jjag1\\Downloads\n",
      "\n",
      "10/01/2025  11:00 AM    <DIR>          .\n",
      "10/01/2025  10:45 AM    <DIR>          ..\n",
      "10/01/2025  10:48 AM    <DIR>          .ipynb_checkpoints\n",
      "03/17/2024  05:22 PM         2,241,193 _tmp__lease_documents_20240317032222.pdf\n",
      "12/04/2024  02:25 PM             2,656 10.1038_s41401-024-01422-5-citation.ris\n",
      "03/31/2025  02:10 PM           659,418 1997 Naturae paper and its comment.pdf\n",
      "10/01/2025  11:00 AM            19,134 2.1-Introduction_BLANK.ipynb\n",
      "03/05/2025  01:10 PM           184,510 2.png\n",
      "04/07/2025  08:20 PM         1,061,947 2000-Cell-1.pdf\n",
      "04/07/2025  08:20 PM           607,948 2000-Cell-2.pdf\n",
      "04/09/2025  02:47 PM           423,172 2005-science.pdf\n",
      "03/27/2025  12:05 PM         1,305,666 2006-Cell.pdf\n",
      "03/19/2024  04:35 PM           689,960 2024_Tax_Return_JGeary.pdf\n",
      "10/10/2024  12:14 PM         9,122,144 20240909_3WJ_123_and_124_12percent_8s_100V_60min_4C_cropped.tif\n",
      "03/15/2024  07:29 PM            49,360 202-HW3-SQL.pdf\n",
      "09/04/2024  11:02 AM            15,133 2ade20e39ebb4accbfce8cd96a6497f8.docx\n",
      "03/27/2025  04:51 PM               250 3NVNWG_1_V111_primers_deletion.tsv\n",
      "03/27/2025  01:22 PM            30,352 3NVNWG_1_V111-annotated-for-Jack.dna\n",
      "10/10/2024  12:36 PM    <DIR>          3WJ-conventional junction Files\n",
      "10/10/2024  12:58 PM            14,479 3WJ-conventional junction.mmp\n",
      "10/10/2024  12:58 PM            11,928 3wj-mesojunction.mmp\n",
      "06/10/2025  05:38 PM           539,370 407408301_Spec.pdf\n",
      "06/10/2025  05:36 PM           495,629 407432185_Spec.pdf\n",
      "12/04/2024  02:13 PM        22,552,176 41401_2024_1422_MOESM2_ESM.tif\n",
      "09/24/2025  10:23 AM            23,557 41467_2025_62314_MOESM3_ESM.xlsx\n",
      "10/17/2024  01:14 PM         3,621,009 41565_2024_1723_MOESM4_ESM.mp4\n",
      "10/17/2024  02:13 PM         4,571,652 41565_2024_1723_MOESM9_ESM.tif\n",
      "12/02/2024  12:18 PM         1,659,636 515a_Rigor_and_Reproducibility_Presentation_JG_HT_JR.pptx\n",
      "08/25/2025  12:39 PM                 0 5251d912-c064-4f2f-a70e-d2848110cd55.tmp\n",
      "08/14/2025  02:58 PM        16,916,733 76VQND_results (1).zip\n",
      "08/14/2025  02:58 PM        16,916,733 76VQND_results.zip\n",
      "05/03/2024  03:22 PM           188,797 ABIO 454-554SyllabiSpring2024Begley (1).pdf\n",
      "02/27/2024  11:58 AM           188,797 ABIO 454-554SyllabiSpring2024Begley.pdf\n",
      "08/20/2025  09:54 AM           352,378 ABIO212_Syllabus_Fall25_Shorrock_v3.pdf\n",
      "09/10/2025  01:11 PM         8,533,816 ABIO212Y-Introductory Genetics  (1232) - 9102025 - 111 PM.zip\n",
      "09/26/2024  02:37 PM            85,138 ABIO599 Syllabus Fall2024 Cunningham.pdf\n",
      "04/18/2024  01:43 AM         4,929,594 Abraxane (1).pptx\n",
      "04/18/2024  11:44 AM         4,947,043 Abraxane (2).pptx\n",
      "04/18/2024  01:36 AM         4,929,300 Abraxane.pptx\n",
      "09/18/2024  11:28 AM           137,027 Absentee_ballot_request_confirmation.pdf\n",
      "10/01/2025  08:43 AM       958,742,216 Anaconda3-2025.06-0-Windows-x86_64.exe\n",
      "01/17/2025  01:46 PM           634,208 Annotated_seqs_1218_selection.xlsx\n",
      "03/05/2025  04:05 PM         3,042,225 ASOs are an effective treatment.pdf\n",
      "02/09/2024  02:59 PM             2,900 Assignment2.py\n",
      "04/17/2025  12:35 PM                 0 b2a62b5f-3fbb-4060-90c1-0c02cba28d00.tmp\n",
      "03/21/2025  03:30 PM         3,920,278 B2HBGP_results.zip\n",
      "03/12/2025  01:49 PM           650,407 Bacterial Chemical Transformation.png\n",
      "09/12/2024  01:35 PM    <DIR>          Bio-Rad-Image-Lab-Software-6.1-Windows\n",
      "06/27/2025  01:16 PM    <DIR>          Bio-Rad-Image-Lab-Software-6.1-Windows (1)\n",
      "06/27/2025  01:15 PM       358,979,734 Bio-Rad-Image-Lab-Software-6.1-Windows (1).zip\n",
      "07/03/2025  02:06 PM    <DIR>          Bio-Rad-Image-Lab-Software-6.1-Windows (2)\n",
      "07/03/2025  02:06 PM       358,979,734 Bio-Rad-Image-Lab-Software-6.1-Windows (2).zip\n",
      "09/12/2024  01:35 PM       358,979,734 Bio-Rad-Image-Lab-Software-6.1-Windows.zip\n",
      "10/04/2024  11:30 AM       476,873,024 BIOVIA_DS2024Client.exe\n",
      "10/08/2024  02:10 PM           471,206 CDSpectra_12_14_16bp_Meso_Conv_junctions_MG.opju\n",
      "12/05/2024  02:16 PM         1,237,577 Cell counting.png\n",
      "03/14/2025  12:50 PM            19,611 Cell Structure & Function Makeup.docx\n",
      "01/15/2024  11:27 PM         1,376,304 ChromeSetup (1).exe\n",
      "08/26/2024  12:40 PM         8,950,664 ChromeSetup (2).exe\n",
      "12/26/2023  11:13 AM         1,376,304 ChromeSetup.exe\n",
      "04/30/2025  04:16 PM         3,339,679 Clamer et al. (2021)_Journal_Club.pdf\n",
      "04/11/2025  11:22 PM            21,734 cv-1568213.docx\n",
      "08/22/2025  03:26 PM             7,070 ddct_template.xlsx\n",
      "07/17/2025  11:16 AM         1,261,874 de la Parra et al (2018).pdf\n",
      "02/05/2025  02:55 PM            57,480 Digest_and-Ligation.jpeg\n",
      "05/12/2024  08:42 PM           313,369 Direct Deposit Form.pdf\n",
      "09/10/2024  07:50 PM        60,644,733 DNA - PNA 3WJs Sequences_20240823 (1).pptx\n",
      "09/09/2024  04:26 PM        60,644,733 DNA - PNA 3WJs Sequences_20240823.pptx\n",
      "01/18/2024  09:35 AM            98,313 Download of Starting Out with Python 5th Edition PDF.pdf\n",
      "03/03/2025  02:19 PM           126,525 Draft abio.pdf\n",
      "03/03/2025  05:39 PM            88,404 DRAFT PROPOSAL- Melanie Aguilar.pdf\n",
      "04/08/2025  09:22 PM           233,265 draft.pdf\n",
      "09/03/2025  01:06 PM            28,370 eIF2A_RAN_figure.jpeg\n",
      "05/15/2025  03:21 PM            31,242 elife-59303-fig4-data2-v2.txt\n",
      "05/12/2024  08:42 PM           415,956 EMP-2.pdf\n",
      "05/25/2024  12:25 PM               418 event.ics\n",
      "03/17/2025  03:01 PM            21,969 Example-BCAassay-calculations.xlsx\n",
      "06/27/2025  01:17 PM    <DIR>          fiji-latest-win64-jdk\n",
      "06/27/2025  01:17 PM       619,574,374 fiji-latest-win64-jdk.zip\n",
      "03/10/2024  02:10 PM           117,904 five quad logo no background.png\n",
      "04/22/2024  12:06 AM           233,668 FlyCar_SignOut_qrcode.png\n",
      "04/11/2025  11:51 AM         1,173,269 Fuchs et al(2015)_HCV_FRET.pdf\n",
      "01/18/2024  09:40 AM        30,736,164 gaddis_tony_starting_out_with_python.pdf\n",
      "04/14/2024  04:39 PM            10,294 Geary_Test2_ScoringTemplate_2024.xlsx\n",
      "09/23/2025  01:04 PM         1,855,215 Genetics_Group_Presentation_Expectations (1).pptx\n",
      "09/22/2025  03:51 PM         1,471,557 Genetics_Group_Presentation_Expectations.pdf\n",
      "09/23/2025  01:03 PM         1,855,215 Genetics_Group_Presentation_Expectations.pptx\n",
      "09/29/2024  04:40 PM         2,071,188 getting-started-with-r-an-introduction-for-biologists-second-edition-9780198787839-0198787839-9780198787846-0198787847_compress.pdf\n",
      "09/13/2025  03:00 PM        66,729,984 GlobalProtect64.msi\n",
      "09/08/2025  10:44 AM    <DIR>          GPower_3.1.9.7_143\n",
      "09/08/2025  10:44 AM        14,429,470 GPowerWin_3.1.9.7.zip\n",
      "06/06/2025  01:34 PM        10,837,692 Hannah 2025-06-06 13h30m58s(Chemiluminescence).tif\n",
      "07/08/2025  02:15 PM            58,682 HB-0594-002 1101292_PCard_PLS_Plus_Midi_0316_WW_WEB.pdf\n",
      "03/14/2024  12:58 PM            17,908 HW_technology_24_3_13.docx\n",
      "09/29/2025  10:13 AM            21,521 ImageJ analysis Lecture 9.docx\n",
      "08/26/2025  12:42 PM         1,823,225 IMG_2127.jpg\n",
      "08/29/2025  12:50 PM       279,480,832 InstallPrism10.msi\n",
      "03/10/2025  04:12 PM           392,005 Instructions and Rubric PAPER Plant Defenses '25.pdf\n",
      "04/17/2025  12:21 PM            76,918 JG_Biosafety_citiCompletionCertificate_11409001_68948007.pdf\n",
      "10/02/2024  07:38 PM           530,341 JG_CD.zip\n",
      "04/17/2025  12:45 PM            77,408 JG_NIH_rDNA_citiCompletionCertificate_11409001_68935591.pdf\n",
      "04/17/2025  12:45 PM            77,310 JG_Safety_citiCompletionCertificate_11409001_56049378.pdf\n",
      "05/05/2025  10:27 AM           116,720 JGeary Certificate.pdf\n",
      "03/18/2025  09:00 PM         1,017,572 JGeary_2024_TaxReturn.pdf\n",
      "04/17/2025  11:53 AM            76,935 JGeary_BBP_citiCompletionCertificate_11409001_68935590.pdf\n",
      "04/23/2025  08:40 PM           154,972 JGeary_BioSketch_Apr112025-23756991.pdf\n",
      "10/10/2024  12:16 PM         2,012,716 JGeary_Lightning_Talk_RNA_Symposium_arc.pptx\n",
      "10/09/2024  03:05 PM        70,001,844 JGeary_RNA_Symposium_Poster_20241009_MG.pptx\n",
      "10/09/2024  11:24 AM        69,978,089 JGeary_RNA_Symposium_Poster_DRAFT_20241007_arc.pptx\n",
      "04/11/2025  08:01 PM            25,134 JGeary_StatementofPurpose_102423_UA.docx\n",
      "10/28/2024  12:22 PM           189,134 JGeary_Travel-Payment-Request_RNA_Symposium_arc.pdf\n",
      "09/02/2024  08:59 PM       265,521,376 KindleForPC-installer-2.4.70946.exe\n",
      "07/09/2025  11:26 AM           746,052 Lipofection (or liposome transfection).png\n",
      "07/25/2025  10:44 AM             2,974 meeting-83751258562.ics\n",
      "07/25/2025  10:44 AM             2,970 meeting-87303384714.ics\n",
      "07/25/2025  10:44 AM             2,937 meeting-89333222639.ics\n",
      "06/11/2025  09:37 AM           526,901 Membrane Transfer Schematics.png\n",
      "03/21/2025  03:57 PM         6,609,506 Methods, discussion, results.pdf\n",
      "04/28/2025  10:37 AM         3,687,882 MM_JG_Presentation_ABIO524.pptx\n",
      "10/24/2024  12:03 PM            10,375 mmc2.xlsx\n",
      "10/24/2024  12:04 PM            50,751 mmc3.xlsx\n",
      "09/23/2025  04:22 PM    <DIR>          MobaXterm_Portable_v25.2\n",
      "09/03/2025  09:03 AM        43,157,884 MobaXterm_Portable_v25.2.zip\n",
      "02/13/2025  01:05 PM               251 MSN_SDM_Primers.tsv\n",
      "08/29/2024  03:05 PM         1,449,840 MSTeamsSetup (1).exe\n",
      "08/26/2024  01:21 PM         1,449,840 MSTeamsSetup.exe\n",
      "01/23/2024  02:45 PM       129,612,811 MSTeams-x64.msix\n",
      "10/03/2024  04:39 PM        24,178,908 nanoengineer-master.zip\n",
      "12/04/2024  01:15 PM           289,490 NBL-RNA prep-trizol.pdf\n",
      "07/18/2025  02:49 PM            68,733 New York Boat Ed Course.pdf\n",
      "05/13/2024  11:56 AM           174,346 OathCard.pdf\n",
      "10/02/2024  07:42 PM        37,793,411 OneDrive_1_10-2-2024.zip\n",
      "04/10/2024  05:10 PM           120,560 Original_soundz_backupcam_invoice_4102024.jpg\n",
      "10/02/2024  07:36 PM    <DIR>          OriginViewer_64\n",
      "10/02/2024  07:36 PM         7,761,965 OriginViewer_64.zip\n",
      "09/22/2024  10:08 AM            48,516 Outlook-cemxhtp5\n",
      "09/24/2025  10:36 AM         2,498,020 p53_B2M.tif\n",
      "03/14/2025  01:43 PM           379,340 Paper Plant Defenses - Instructions '24.pdf\n",
      "03/19/2024  11:30 AM           177,824 PAYMENT_RECEIPT_1598585430.pdf\n",
      "02/25/2025  03:28 PM           103,951 Plant Proposal.pdf\n",
      "03/12/2025  02:06 PM         1,067,809 Plasmid Purification (Miniprep) Protocol.png\n",
      "03/06/2025  01:19 PM            11,147 Plasmidsaurus sequences.zip\n",
      "09/19/2024  11:35 AM         4,173,353 pnas.1912459116.sapp.pdf\n",
      "09/06/2025  04:07 PM            33,551 Probability_of_Inheritance_Presentation_with_Visuals.pptx\n",
      "09/05/2024  01:31 PM           962,671 ProcNatlAcadSciUSA2000Eichman.pdf\n",
      "03/03/2025  02:39 PM           181,169 Project Proposal.pdf\n",
      "03/10/2025  09:30 AM            90,781 PROPOSAL Sameena Sadaat.pdf\n",
      "05/07/2025  11:28 AM           937,497 Protein Translation.png\n",
      "09/04/2025  02:50 PM             8,026 ps (1).xls\n",
      "09/13/2025  06:31 PM            10,364 ps (2).xls\n",
      "09/13/2025  06:31 PM    <DIR>          ps (2)_files\n",
      "09/13/2025  06:28 PM             8,504 ps (3).xls\n",
      "09/13/2025  06:29 PM             8,026 ps (4).xls\n",
      "08/27/2025  03:19 PM             7,471 ps.xls\n",
      "05/06/2024  11:20 PM         2,577,600 PXL_20240430_152508554.jpg\n",
      "05/06/2024  11:06 PM         4,022,219 PXL_20240430_154614294.jpg\n",
      "05/06/2024  11:21 PM         3,161,363 PXL_20240430_160236119.jpg\n",
      "05/06/2024  10:57 PM         2,937,021 PXL_20240430_160645076.jpg\n",
      "05/06/2024  11:17 PM         1,928,734 PXL_20240430_174320269.jpg\n",
      "05/06/2024  10:52 PM         1,513,171 PXL_20240430_175733479.jpg\n",
      "08/22/2025  12:51 PM         2,514,341 PXL_20250822_164537682.jpg\n",
      "08/22/2025  01:02 PM         1,372,940 PXL_20250822_164537682_1.jpg\n",
      "09/13/2025  03:33 PM         3,513,778 PXL_20250913_193059683.jpg\n",
      "01/17/2024  12:08 PM        26,589,696 python-3.12.1-amd64.exe\n",
      "09/16/2025  12:50 PM         3,178,838 QRCode for Peer review for scientific writing (1232).png\n",
      "09/16/2025  12:55 PM         3,181,202 QRCode for Peer review for scientific writing (1233).png\n",
      "09/16/2025  12:58 PM         3,181,534 QRCode for Peer review for scientific writing (3160).png\n",
      "09/16/2025  12:48 PM         3,178,322 QRCode for Scientific writing workshop 1_ analysis of example answers (1232).png\n",
      "09/16/2025  12:57 PM         3,180,669 QRCode for Scientific writing workshop 1_ analysis of example answers (1233).png\n",
      "09/16/2025  12:58 PM         3,181,379 QRCode for Scientific writing workshop 1_ analysis of example answers (3160).png\n",
      "02/14/2024  12:24 PM           377,754 R&A John Geary 2-22-24_kmp (1).pdf\n",
      "02/14/2024  12:22 PM           377,754 R&A John Geary 2-22-24_kmp.pdf\n",
      "09/29/2024  04:18 PM        85,900,616 R-4.4.1-win.exe\n",
      "09/13/2025  03:18 PM        90,111,968 R-4.5.1-win.exe\n",
      "12/05/2024  11:06 AM         5,490,781 Reference slides for ALKBH8_Safi_10_3_2024.pptx\n",
      "05/06/2024  10:52 PM           120,560 Resized_20240410_095302.jpg\n",
      "03/12/2025  01:42 PM           608,921 Restriction Enzymes Cloning.png\n",
      "09/30/2025  10:43 AM            19,435 Ribsome purification protocol_Fuchs.docx\n",
      "09/12/2024  12:27 PM            25,787 RNA_Symposium_Abstract_MG.docx\n",
      "09/29/2024  04:19 PM       265,553,720 RStudio-2024.09.0-375.exe\n",
      "09/13/2025  03:20 PM       265,283,056 RStudio-2024.12.1-563.exe\n",
      "08/19/2025  01:56 PM    <DIR>          RT-qPCR files and data\n",
      "08/19/2025  01:56 PM         1,069,990 RT-qPCR files and data.zip\n",
      "09/22/2025  07:33 AM         2,971,303 s41467-025-62314-8.pdf\n",
      "08/29/2024  02:47 PM         8,074,095 s41565-024-01723-0.pdf\n",
      "09/08/2025  03:33 PM            57,344 Sarnow Lab sucrose gradient protocol.doc\n",
      "05/24/2024  03:18 PM         2,405,141 SCAN 20240524.pdf\n",
      "05/24/2024  03:18 PM         2,092,260 SCAN 20240524_0001.pdf\n",
      "09/16/2025  01:14 PM         9,058,573 Scientific_Writing_with_Examples_SW1-fall2025 (1).pptx\n",
      "09/16/2025  01:14 PM         9,058,573 Scientific_Writing_with_Examples_SW1-fall2025 (2).pptx\n",
      "09/16/2025  01:13 PM         9,058,573 Scientific_Writing_with_Examples_SW1-fall2025.pptx\n",
      "03/19/2024  03:27 PM            33,093 show (1).pdf\n",
      "03/18/2025  08:18 PM            33,403 show (2).pdf\n",
      "03/19/2024  03:21 PM            33,403 show.pdf\n",
      "03/12/2025  02:10 PM           587,427 Site-directed Mutagenesis.png\n",
      "01/17/2025  12:12 PM       130,014,328 snapgene_8.0.1_win.exe\n",
      "05/25/2024  09:41 AM         1,020,336 SpotifySetup.exe\n",
      "10/23/2024  11:30 AM           679,087 Symposium Agenda and Map.pdf\n",
      "04/17/2024  11:23 PM             1,429 Test Clock.txt\n",
      "03/05/2024  07:34 PM            27,302 Test2_24_2_28post.docx\n",
      "04/12/2024  12:53 PM           112,974 thumbnail_Image.jpg\n",
      "04/07/2024  09:45 PM               856 TimeType Test Client.txt\n",
      "10/18/2024  11:16 AM           168,332 Travel-Payment-Request-January-2024-3.pdf\n",
      "09/29/2025  10:13 AM         2,448,604 Treated.tif\n",
      "08/25/2025  12:26 PM            42,176 Tu_430_525_Disc_QR_group.png\n",
      "08/25/2025  12:31 PM            42,166 Tu_600_655_Disc_QR_group.png\n",
      "08/25/2025  12:39 PM            41,689 Tu_730_825_Disc_QR_group.png\n",
      "05/12/2024  08:40 PM           288,760 Tuition Scholarship Form BIO - Geary, John (Jack).pdf\n",
      "09/12/2024  12:53 PM            21,532 UAlbany_Geary_Talk.docx\n",
      "09/29/2025  10:13 AM         2,449,040 Untreated.tif\n",
      "10/08/2024  02:10 PM         1,846,550 UV-Tm_MG.opju\n",
      "10/02/2024  07:37 PM        25,245,176 VC_redist.x64.exe\n",
      "08/25/2025  12:16 PM            96,284 Week1-discussion-section-intro.pptx\n",
      "09/08/2025  03:52 PM         8,528,031 Week3_Disc_CT_workshop_Papers.zip\n",
      "09/10/2025  11:47 AM         2,172,722 Week3_Topic_review.pptx\n",
      "10/09/2024  11:04 AM    <DIR>          Windows Release\n",
      "10/09/2024  11:04 AM       101,603,915 Windows Release.zip\n",
      "09/05/2024  09:51 PM            60,406 Worksheets Introduction KEY F'24.docx\n",
      "03/26/2025  05:20 PM            20,177 Writing Review Makeup.docx\n",
      "09/29/2025  10:43 AM           136,439 xy_16bit_calibrated__nuclei_various_shapes.tif\n",
      "09/29/2025  10:53 AM            68,358 xy_16bit_calibrated__nuclei_various_shapes_8bit.tif\n",
      "09/29/2025  11:08 AM            95,826 xy_8bit__mitocheck_incenp_t1.tif\n",
      "09/29/2025  11:14 AM             1,874 xy_8bit__mitocheck_incenp_t1-lbl-Morphometry.csv\n",
      "09/29/2025  10:13 AM             2,836 xy_8bit__two_cells.tif\n",
      "09/29/2025  10:34 AM             3,609 xy_8bit_binary__nuclei.tif\n",
      "03/21/2025  02:41 PM        89,475,608 Zotero-7.0.15_x64_setup.exe\n",
      "             212 File(s)  5,675,084,697 bytes\n",
      "              14 Dir(s)  123,529,052,160 bytes free\n"
     ]
    }
   ],
   "source": [
    "ls"
   ]
  },
  {
   "cell_type": "markdown",
   "id": "51cd1691-8188-4195-a358-6864e8bd808c",
   "metadata": {},
   "source": [
    "### Comments\n",
    "Comments are bits of code that do not run, and are just for human eyes. Use comments to:\n",
    "- Describe what your code is doing, or why\n",
    "    - **Your most important code reader is your future self. Be kind to yourself and comment your code!**\n",
    "- Add instructions to users for how to use the code\n",
    "- (When developing code) temporarily hide/show bits of code that you are playing with and don't want to delete, or give yourself reminders or ToDo tasks\n",
    "  \n",
    "#### In python a comment is indicated by the # symbol\n",
    "#### You can toggle between commented/uncommented for a whole line by pressing **Cmd+/** (Mac) or **Ctrl+/** (Windows)\n",
    "\n",
    "\n",
    "Let's try writing some comments, and toggling between commented / uncommented..."
   ]
  },
  {
   "cell_type": "code",
   "execution_count": 18,
   "id": "a08dc505-d9dd-4dd9-b612-bc8d547d8b3c",
   "metadata": {},
   "outputs": [],
   "source": [
    "#This is a comment"
   ]
  },
  {
   "cell_type": "markdown",
   "id": "fb6b8916-b093-4b93-924e-73eec67cd9d6",
   "metadata": {
    "jp-MarkdownHeadingCollapsed": true
   },
   "source": [
    "### Summary: Interacting with notebooks\n",
    "- Use **markdown** to show nicely formatted text\n",
    "- Use **code** to ... code\n",
    "- Use **comments** to make your code more readable\n"
   ]
  },
  {
   "cell_type": "markdown",
   "id": "4ae96a29",
   "metadata": {},
   "source": [
    "## 2) Variables — assigning and inspecting\n",
    "ℹ️ A **variable** stores a value. In Python, you create a variable the first time you assign to it.\n",
    "\n",
    "**Rules of thumb**\n",
    "- Use meaningful names: `temperature_c`, `subject_count`.\n",
    "    - NOT: `x`, `variable`, `number`\n",
    "    - **Be kind to your future self!**\n",
    "- Names use letters, numbers, and underscores (and **cannot** start with a number).\n",
    "- Python is case-sensitive: `Mass` ≠ `mass`.\n",
    "\n",
    "Let's define some variables, and then display them with print()\n"
   ]
  },
  {
   "cell_type": "code",
   "execution_count": 22,
   "id": "6d0d433f",
   "metadata": {},
   "outputs": [
    {
     "name": "stdout",
     "output_type": "stream",
     "text": [
      "Here we go coding again\n",
      "22.5 100 w(1118) True\n"
     ]
    }
   ],
   "source": [
    "example_phrase = 'Here we go coding again'\n",
    "print(example_phrase)\n",
    "#Prints the example phrase above.\n",
    "\n",
    "temperature_c = 22.5\n",
    "n_samples = 100\n",
    "genotype = 'w(1118)'\n",
    "is_control = True\n",
    "print(temperature_c, n_samples, genotype, is_control)\n"
   ]
  },
  {
   "cell_type": "markdown",
   "id": "0b4a07d0-cd32-4588-bde2-d1648c440a35",
   "metadata": {},
   "source": [
    "#### Sounds obvious but: You must **assign** a variable before you **call** it\n",
    "\n",
    "Let's see what happens when you do it in the wrong order..."
   ]
  },
  {
   "cell_type": "code",
   "execution_count": 24,
   "id": "6ba18624-aee1-4daf-ae03-71312d727f7a",
   "metadata": {},
   "outputs": [
    {
     "name": "stdout",
     "output_type": "stream",
     "text": [
      "C578L6\n"
     ]
    }
   ],
   "source": [
    "strain = 'C578L6'\n",
    "print(strain)\n",
    "\n"
   ]
  },
  {
   "cell_type": "markdown",
   "id": "2803a899-14cc-441c-9496-ee7a0efed457",
   "metadata": {},
   "source": [
    "### <span style='color:red;'>EXERCISE 2</span>: Fix this bug! (2 min)\n",
    "Change the code in the cell above 👆 to fix the bug and print the strain"
   ]
  },
  {
   "cell_type": "markdown",
   "id": "e9e2b6c5-d734-40c6-ba2f-c4bee072be4a",
   "metadata": {},
   "source": [
    "### Useful aside: String formatting\n",
    "There are several methods to insert variables into a string. Let's practice one method called an **f-string**"
   ]
  },
  {
   "cell_type": "code",
   "execution_count": 29,
   "id": "4f718c7a-e860-490a-96ef-1878c8321fc3",
   "metadata": {},
   "outputs": [
    {
     "name": "stdout",
     "output_type": "stream",
     "text": [
      "My name is Jack, I am 22 years old\n"
     ]
    }
   ],
   "source": [
    "name = 'Jack'\n",
    "age = '22'\n",
    "message = f'My name is {name}, I am {age} years old'\n",
    "print(message)\n",
    "#Prints the f-string written above"
   ]
  },
  {
   "cell_type": "markdown",
   "id": "f0940a65-9616-4665-8ce2-d80039834b34",
   "metadata": {},
   "source": [
    "*Important note*: Re-assigning a variable updates its value"
   ]
  },
  {
   "cell_type": "code",
   "execution_count": 30,
   "id": "6617402d-019f-45b0-bb74-c5c062e0d9bd",
   "metadata": {},
   "outputs": [
    {
     "name": "stdout",
     "output_type": "stream",
     "text": [
      "10\n"
     ]
    }
   ],
   "source": [
    "n_samples=10\n",
    "print(n_samples)"
   ]
  },
  {
   "cell_type": "code",
   "execution_count": 40,
   "id": "d9a331be",
   "metadata": {},
   "outputs": [
    {
     "name": "stdout",
     "output_type": "stream",
     "text": [
      "Updated n_samples = 60\n"
     ]
    }
   ],
   "source": [
    "n_samples = n_samples + 5\n",
    "print(f'Updated n_samples = {n_samples}')"
   ]
  },
  {
   "cell_type": "markdown",
   "id": "0ae0444f-f8a7-4794-a598-5110e7d19672",
   "metadata": {},
   "source": [
    "### Simple math\n",
    "Python has basic math operations built in. \n",
    "`+` `-` `*` `/`\n",
    "\n",
    "`**` - exponential\n",
    "\n",
    "(**Next class** we will talk about extending the functionality of Python using libraries)"
   ]
  },
  {
   "cell_type": "code",
   "execution_count": 45,
   "id": "bcc3a213-2228-42a5-a22f-dfccc5875b07",
   "metadata": {},
   "outputs": [
    {
     "name": "stdout",
     "output_type": "stream",
     "text": [
      "35\n"
     ]
    }
   ],
   "source": [
    "weeks = 5\n",
    "days = weeks * 7\n",
    "print(days)"
   ]
  },
  {
   "cell_type": "code",
   "execution_count": 46,
   "id": "c542779c-04ce-4862-baab-6efb253874f0",
   "metadata": {},
   "outputs": [
    {
     "name": "stdout",
     "output_type": "stream",
     "text": [
      "225\n"
     ]
    }
   ],
   "source": [
    "width = 15\n",
    "area = width**2\n",
    "print(area)"
   ]
  },
  {
   "cell_type": "markdown",
   "id": "87e329c8-a63c-457e-a5fd-f8b915a01add",
   "metadata": {},
   "source": [
    "### <span style='color:red;'>EXERCISE 3</span>: What does // mean? (4 min)\n",
    "There is an `//` operator - play around with it and figure out what it does"
   ]
  },
  {
   "cell_type": "code",
   "execution_count": 50,
   "id": "b7804d13-b770-4aed-a531-b50efa4ac774",
   "metadata": {},
   "outputs": [
    {
     "name": "stdout",
     "output_type": "stream",
     "text": [
      "1.0\n"
     ]
    }
   ],
   "source": [
    "#//THis performs the division function and rounds the value to the nearest whole number\n",
    "\n",
    "mass = 172.4\n",
    "volume = 100.8\n",
    "density = mass // volume\n",
    "print(density)\n"
   ]
  },
  {
   "cell_type": "markdown",
   "id": "a076127c",
   "metadata": {},
   "source": [
    "### Inspecting what is in memory\n",
    "You can ask Python/IPython what's currently defined using the magic word %whos\n"
   ]
  },
  {
   "cell_type": "code",
   "execution_count": 51,
   "id": "5326f08f",
   "metadata": {},
   "outputs": [
    {
     "name": "stdout",
     "output_type": "stream",
     "text": [
      "Variable         Type     Data/Info\n",
      "-----------------------------------\n",
      "age              str      22\n",
      "area             int      225\n",
      "days             int      35\n",
      "density          float    1.0\n",
      "example_phrase   str      Here we go coding again\n",
      "genotype         str      w(1118)\n",
      "is_control       bool     True\n",
      "mass             float    172.4\n",
      "message          str      My name is Jack, I am 22 years old\n",
      "n_samples        int      60\n",
      "name             str      Jack\n",
      "strain           str      C578L6\n",
      "temperature_c    float    22.5\n",
      "volume           float    100.8\n",
      "weeks            int      5\n",
      "width            int      15\n"
     ]
    }
   ],
   "source": [
    "%whos"
   ]
  },
  {
   "cell_type": "markdown",
   "id": "14ed56cb",
   "metadata": {},
   "source": [
    "### <span style='color:red;'>EXERCISE 4</span>: Variables practice (6 min)\n",
    "1. Create variables for a sample: `mass_g`, `volume_L`. Assign them numbers.\n",
    "2. Compute density in g/L and store it in `density_g_per_L`.\n",
    "3. Print a sentence summarizing the result with the units.\n"
   ]
  },
  {
   "cell_type": "code",
   "execution_count": 53,
   "id": "9143e558-6654-483c-a0a8-a39e209f74b4",
   "metadata": {},
   "outputs": [
    {
     "name": "stdout",
     "output_type": "stream",
     "text": [
      "The density of this sample is 0.836 grams/Liter. The density was found by dividing 471.4 grams over 563.9 Liters.\n"
     ]
    }
   ],
   "source": [
    "mass_g = 471.4\n",
    "volume_L = 563.9\n",
    "density_g_per_L = mass_g/volume_L\n",
    "new_density = round(density_g_per_L, 3)\n",
    "print(f'The density of this sample is {new_density} grams/Liter. The density was found by dividing {mass_g} grams over {volume_L} Liters.')"
   ]
  },
  {
   "cell_type": "markdown",
   "id": "5f0acc88",
   "metadata": {},
   "source": [
    "## 3) Data types — inspecting, understanding, converting\n",
    "Common built-in scalar types we'll use today:\n",
    "- `int` (integers), `float` (decimal numbers), `bool` (True/False), and `str` (text).\n",
    "\n",
    "Python variables are *dynamically* typed. This means that when you define a variable Python is smart and figures out what the data type should be. This is convenient but can be dangerous.\n",
    "\n",
    "Use `type(obj)` to check the type.\n"
   ]
  },
  {
   "cell_type": "code",
   "execution_count": null,
   "id": "b052839b",
   "metadata": {},
   "outputs": [],
   "source": []
  },
  {
   "cell_type": "code",
   "execution_count": null,
   "id": "c45b91a9-6e48-4f9a-9da2-92fbed0a4156",
   "metadata": {},
   "outputs": [],
   "source": []
  },
  {
   "cell_type": "code",
   "execution_count": null,
   "id": "b87ee419-56ee-4453-9065-5c07bdd4ac85",
   "metadata": {},
   "outputs": [],
   "source": []
  },
  {
   "cell_type": "code",
   "execution_count": null,
   "id": "bd095354-6d02-47bb-8059-042b49cf57e7",
   "metadata": {},
   "outputs": [],
   "source": []
  },
  {
   "cell_type": "markdown",
   "id": "4e3b432d",
   "metadata": {},
   "source": [
    "### Converting between types\n",
    "You can convert between some data types using constructor functions: `int()`, `float()`, `str()`, `bool()`.\n",
    "- Not every conversion is possible (e.g., `int('3.14')` raises an error).\n",
    "- `bool(x)` is `False` for 0, 0.0, empty strings `''`, and empty containers; otherwise `True`.\n"
   ]
  },
  {
   "cell_type": "code",
   "execution_count": null,
   "id": "afc91964",
   "metadata": {},
   "outputs": [],
   "source": []
  },
  {
   "cell_type": "code",
   "execution_count": null,
   "id": "b7244d65-3ff2-4fc8-a791-8b041bc2f655",
   "metadata": {},
   "outputs": [],
   "source": []
  },
  {
   "cell_type": "code",
   "execution_count": null,
   "id": "6b07105b-9731-4a80-9a1e-9007644a115e",
   "metadata": {},
   "outputs": [],
   "source": []
  },
  {
   "cell_type": "markdown",
   "id": "b1b83450",
   "metadata": {},
   "source": [
    "### Booleans and comparisons\n",
    "Comparison operators: `==`, `!=`, `<`, `<=`, `>`, `>=`.\n",
    "Logical operators: `and`, `or`, `not`.\n"
   ]
  },
  {
   "cell_type": "code",
   "execution_count": null,
   "id": "7efb7f7e",
   "metadata": {},
   "outputs": [],
   "source": []
  },
  {
   "cell_type": "code",
   "execution_count": null,
   "id": "1228a4a1-0a4a-457e-8f82-8af3f45b5ef8",
   "metadata": {},
   "outputs": [],
   "source": []
  },
  {
   "cell_type": "code",
   "execution_count": null,
   "id": "745f3418",
   "metadata": {},
   "outputs": [],
   "source": []
  },
  {
   "cell_type": "markdown",
   "id": "f727990f",
   "metadata": {},
   "source": [
    "### Strings: indexing, slicing, and methods\n",
    "Strings are sequences of characters.\n",
    "- Indexing: `s[0]` (first char); Slicing: `s[0:4]` (chars 0–3).\n",
    "- Length: `len(s)`.\n",
    "\n",
    "Let's practice indexing into a string. You will be using indexing A LOT for other data types (like lists or arrays of numbers) later in the class. and the syntax is similar\n"
   ]
  },
  {
   "cell_type": "code",
   "execution_count": null,
   "id": "52615535",
   "metadata": {},
   "outputs": [],
   "source": []
  },
  {
   "cell_type": "code",
   "execution_count": null,
   "id": "c31ecda7-4570-4b62-a3b5-7e4b0c6d0f05",
   "metadata": {},
   "outputs": [],
   "source": []
  },
  {
   "cell_type": "code",
   "execution_count": null,
   "id": "d83056b8-fb2d-409f-85bb-46638cc76c10",
   "metadata": {},
   "outputs": [],
   "source": []
  },
  {
   "cell_type": "code",
   "execution_count": null,
   "id": "e0ac03b0-3221-4ff8-888e-95531504445e",
   "metadata": {},
   "outputs": [],
   "source": []
  },
  {
   "cell_type": "markdown",
   "id": "a907e124",
   "metadata": {},
   "source": [
    "### <span style='color:red;'>EXERCISE 5</span>: Types & conversions (5 min)\n",
    "Given the strings below, compute the force `F = m * a` and print a friendly summary.\n",
    "\n",
    "```python\n",
    "mass_str = '12.5'      # grams\n",
    "accel_str = '9.81'     # m/s^2\n",
    "```\n",
    "\n",
    "Steps:\n",
    "1. Convert both to floating-point numbers.\n",
    "2. Convert mass to **kilograms** first (1 g = 0.001 kg).\n",
    "3. Compute force in Newtons using F = m * a. A newton is 1 kg * m/s^2\n",
    "4. Print a sentence displaying the computed force in N\n",
    "\n"
   ]
  },
  {
   "cell_type": "code",
   "execution_count": null,
   "id": "7e64edea-cf1b-464e-aeee-7fd0ba268d47",
   "metadata": {},
   "outputs": [],
   "source": []
  },
  {
   "cell_type": "markdown",
   "id": "98a6cb67-9f89-4968-abfa-38772484855a",
   "metadata": {},
   "source": [
    "## 4. Containers\n",
    "\n",
    "A **container** is a data structure that stores a collection of objects\n",
    "\n",
    "There are a few examples of containers, including:\n",
    "- **string**: A container full of characters like \"hello\"\n",
    "- **list**: A container full of whatever, separated by commas, like: [1, 2, 3.5, 50]\n",
    "- **tuple**: a lot like a list but it is _immutable_ "
   ]
  },
  {
   "cell_type": "markdown",
   "id": "ae7ff9e2-f360-4dd7-a7cb-89491c3128fd",
   "metadata": {},
   "source": [
    "What can you do with a container? Here are two things:\n",
    "1. Index to retrieve or change values\n",
    "2. Math!\n",
    "\n",
    "Let's make a list and see what both of these look like:"
   ]
  },
  {
   "cell_type": "code",
   "execution_count": null,
   "id": "983ab050-9b79-422a-81b5-b87f3b92505d",
   "metadata": {},
   "outputs": [],
   "source": []
  },
  {
   "cell_type": "code",
   "execution_count": null,
   "id": "620fbe4f-55dd-499b-bc16-4474089cd1a4",
   "metadata": {},
   "outputs": [],
   "source": []
  },
  {
   "cell_type": "code",
   "execution_count": null,
   "id": "9f00c8ce-144a-4187-ba10-3aeb3e5b40e9",
   "metadata": {},
   "outputs": [],
   "source": []
  },
  {
   "cell_type": "code",
   "execution_count": null,
   "id": "6bd77066-3fdb-4496-aa3e-928f21a6ca9e",
   "metadata": {},
   "outputs": [],
   "source": []
  },
  {
   "cell_type": "markdown",
   "id": "b669e559-ce96-43b6-9e52-02464cefde9c",
   "metadata": {},
   "source": [
    "Python has some built in math functions, too..."
   ]
  },
  {
   "cell_type": "code",
   "execution_count": null,
   "id": "8284e393-3b4d-4f8f-b287-6062c59d223c",
   "metadata": {},
   "outputs": [],
   "source": []
  },
  {
   "cell_type": "markdown",
   "id": "6aa68de2-f4c6-42db-80e9-7fb7826d64a7",
   "metadata": {},
   "source": [
    "### <span style='color:red;'>EXERCISE 6</span>: LIST MATH (5 min)\n",
    "Make a list of numbers and then write some code to compute the average of the values"
   ]
  },
  {
   "cell_type": "code",
   "execution_count": null,
   "id": "ed014770-25ae-4e18-952c-e7fcddd1d03a",
   "metadata": {},
   "outputs": [],
   "source": []
  },
  {
   "cell_type": "markdown",
   "id": "cd8818eb",
   "metadata": {},
   "source": [
    "## Running, restarting, and saving\n",
    "- If things get messy, you can **Restart Kernel** (clears variables) and then **Run All**.\n",
    "- You can also **Restart Kernel and Clear Outputs of All Cells** (under the **Kernel** file menu) to reset the notebook entirely.\n",
    "- Save this notebook and consider exporting as HTML or PDF for your records (File → Export).\n"
   ]
  },
  {
   "cell_type": "code",
   "execution_count": null,
   "id": "bc7564ed-3164-408c-8a4a-8c6307aaac05",
   "metadata": {},
   "outputs": [],
   "source": []
  }
 ],
 "metadata": {
  "kernelspec": {
   "display_name": "Python 3 (ipykernel)",
   "language": "python",
   "name": "python3"
  },
  "language_info": {
   "codemirror_mode": {
    "name": "ipython",
    "version": 3
   },
   "file_extension": ".py",
   "mimetype": "text/x-python",
   "name": "python",
   "nbconvert_exporter": "python",
   "pygments_lexer": "ipython3",
   "version": "3.13.7"
  }
 },
 "nbformat": 4,
 "nbformat_minor": 5
}
