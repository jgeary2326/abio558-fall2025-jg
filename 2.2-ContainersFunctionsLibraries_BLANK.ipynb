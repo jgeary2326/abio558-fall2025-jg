{
 "cells": [
  {
   "cell_type": "markdown",
   "id": "47f50eae-6f41-4b28-9488-b72c216aab4d",
   "metadata": {},
   "source": [
    "# 2.2 - Containers, functions, arrays\n",
    "\n",
    "### Learning goals for today\n",
    "1. Inspect and understand Python data types (10 minutes)\n",
    "2. Create, index and manipulate built in containers like lists and tuples (15 minutes)\n",
    "3. Use and define functions in Python, Import specialized python libraries (15 minutes)\n",
    "4. Use numpy to create and compute with arrays and matrices (15 minutes)\n",
    "5. Use NumPy and Matplotlib to solve problems in biology (20 minutes)\n",
    "\n",
    "---\n",
    "### How to use this notebook during class\n",
    "- Follow along as we go\n",
    "- Use your **Cards** to indicate where you're at:\n",
    "    - A **🟩Green card** means you are caught up with Max and **ready to help your classmates**\n",
    "    - A **🟥Red card** means you are stuck and need help\n",
    "- <span style='color:red;'>EXERCISE</span> — work on this problem by yourself, or try with a partner if you get stuck\n",
    "---\n",
    "### Resources and more practice:\n",
    "- https://swcarpentry.github.io/python-novice-gapminder/03-types-conversion.html\n",
    "- https://swcarpentry.github.io/python-novice-gapminder/instructor/04-built-in.html\n",
    "- https://swcarpentry.github.io/python-novice-gapminder/instructor/06-libraries.html"
   ]
  },
  {
   "cell_type": "markdown",
   "id": "12f3db66-8cd9-4e77-a5de-6b2d8dcfce1e",
   "metadata": {},
   "source": [
    "## 1) Data types\n",
    "Common built-in scalar types:\n",
    "- `int` (integers), `float` (decimal numbers), `bool` (True/False), and `str` (text).\n",
    "\n",
    "Python variables are *dynamically* typed. This means that when you define a variable Python is smart and figures out what the data type should be. This is convenient but can be dangerous.\n",
    "\n",
    "Use `type(obj)` to check the type.\n"
   ]
  },
  {
   "cell_type": "code",
   "execution_count": 1,
   "id": "a1d54d78-40c5-4297-bb44-e2faebb70f2c",
   "metadata": {},
   "outputs": [
    {
     "name": "stdout",
     "output_type": "stream",
     "text": [
      "<class 'int'>\n"
     ]
    }
   ],
   "source": [
    "a = 5\n",
    "print (type(a))"
   ]
  },
  {
   "cell_type": "code",
   "execution_count": 2,
   "id": "8c2939a6-acba-4054-9dad-1cb56aeafaff",
   "metadata": {},
   "outputs": [
    {
     "name": "stdout",
     "output_type": "stream",
     "text": [
      "<class 'float'>\n"
     ]
    }
   ],
   "source": [
    "b = 5.0 \n",
    "print(type(b))"
   ]
  },
  {
   "cell_type": "code",
   "execution_count": 3,
   "id": "378cc0bb-5c6a-47f6-ba7a-9c6c1c79a1f6",
   "metadata": {},
   "outputs": [
    {
     "name": "stdout",
     "output_type": "stream",
     "text": [
      "<class 'str'>\n"
     ]
    }
   ],
   "source": [
    "d = 'kobe bryant'\n",
    "print(type(d))"
   ]
  },
  {
   "cell_type": "markdown",
   "id": "0bebd4d8-9fbe-4453-a47b-1cc583e92725",
   "metadata": {},
   "source": [
    "### Booleans and comparisons\n",
    "Comparison operators: `==`, `!=`, `<`, `<=`, `>`, `>=`.\n",
    "Logical operators: `and`, `or`, `not`.\n"
   ]
  },
  {
   "cell_type": "code",
   "execution_count": 4,
   "id": "0b732168-68ad-4edb-bba9-8b5eb6d4462d",
   "metadata": {},
   "outputs": [
    {
     "name": "stdout",
     "output_type": "stream",
     "text": [
      "<class 'bool'>\n"
     ]
    }
   ],
   "source": [
    "c = True\n",
    "print(type(c))"
   ]
  },
  {
   "cell_type": "code",
   "execution_count": 5,
   "id": "81331027-394e-4f21-984d-34c7b73e044a",
   "metadata": {},
   "outputs": [
    {
     "data": {
      "text/plain": [
       "False"
      ]
     },
     "execution_count": 5,
     "metadata": {},
     "output_type": "execute_result"
    }
   ],
   "source": [
    "3>5"
   ]
  },
  {
   "cell_type": "code",
   "execution_count": 9,
   "id": "8b045b02-e10e-4169-b955-734c9f9eb027",
   "metadata": {},
   "outputs": [
    {
     "data": {
      "text/plain": [
       "True"
      ]
     },
     "execution_count": 9,
     "metadata": {},
     "output_type": "execute_result"
    }
   ],
   "source": [
    "3 != 5 and 6 < 8"
   ]
  },
  {
   "cell_type": "markdown",
   "id": "353a5452-1015-4926-83db-3a2ccb489429",
   "metadata": {},
   "source": [
    "## 2) Containers\n",
    "\n",
    "A **container** is a data structure that stores a collection of objects\n",
    "\n",
    "There are a few examples of containers, including:\n",
    "- **string**: A container full of characters like \"hello\"\n",
    "- **list**: A container full of whatever, separated by commas, like: [1, 2, 3.5, 50]\n",
    "- **tuple**: a lot like a list but it is _immutable_ "
   ]
  },
  {
   "cell_type": "markdown",
   "id": "0cb70281-6ff4-4cde-8e05-0f96140fa6ab",
   "metadata": {},
   "source": [
    "What can you do with a container? Here are two things:\n",
    "1. Index to retrieve or change values\n",
    "2. Math!\n",
    "\n",
    "Let's make a list and see what both of these look like:"
   ]
  },
  {
   "cell_type": "code",
   "execution_count": 10,
   "id": "e420e46c-396d-4d4f-b407-f3a60ac8d64c",
   "metadata": {},
   "outputs": [
    {
     "name": "stdout",
     "output_type": "stream",
     "text": [
      "[0, 8, 2, 4]\n"
     ]
    }
   ],
   "source": [
    "my_list = [0, 8, 2, 4]\n",
    "print(my_list)"
   ]
  },
  {
   "cell_type": "code",
   "execution_count": 14,
   "id": "c7085bcb-29e2-4e8a-a532-0e709f4dc4c1",
   "metadata": {},
   "outputs": [
    {
     "data": {
      "text/plain": [
       "[2, 4]"
      ]
     },
     "execution_count": 14,
     "metadata": {},
     "output_type": "execute_result"
    }
   ],
   "source": [
    "my_list[2:4]"
   ]
  },
  {
   "cell_type": "code",
   "execution_count": 16,
   "id": "2e35ea28-2c3a-4917-9af4-35b332a7c506",
   "metadata": {},
   "outputs": [
    {
     "name": "stdout",
     "output_type": "stream",
     "text": [
      "(0, 8, 2, 4)\n"
     ]
    }
   ],
   "source": [
    "my_tuple = (0, 8, 2, 4)\n",
    "print(my_tuple)"
   ]
  },
  {
   "cell_type": "code",
   "execution_count": 23,
   "id": "16d58968-c6dc-4911-9955-927cfc128389",
   "metadata": {},
   "outputs": [
    {
     "name": "stdout",
     "output_type": "stream",
     "text": [
      "[0, 8, 2, 4, [2], [2], [2], [2], [2]]\n"
     ]
    },
    {
     "data": {
      "text/plain": [
       "9"
      ]
     },
     "execution_count": 23,
     "metadata": {},
     "output_type": "execute_result"
    }
   ],
   "source": [
    "my_list.append([2])\n",
    "print(my_list)\n",
    "len(my_list)"
   ]
  },
  {
   "cell_type": "markdown",
   "id": "fab1a2cf-9be6-4130-bdcd-2e76dbf935c1",
   "metadata": {},
   "source": [
    "### <span style='color:red;'>EXERCISE 1</span>: LIST MATH (5 min)\n",
    "Make a list of numbers and then write some code to compute the average of the values and print it"
   ]
  },
  {
   "cell_type": "code",
   "execution_count": 31,
   "id": "9285633f-09d4-4131-9914-d591655b9211",
   "metadata": {},
   "outputs": [
    {
     "name": "stdout",
     "output_type": "stream",
     "text": [
      "997.2\n"
     ]
    }
   ],
   "source": [
    "list_values = [647, 2063, 422, 874, 980]\n",
    "average = sum(list_values)/len(list_values)\n",
    "print(average)\n",
    "#Calculates average of my_list"
   ]
  },
  {
   "cell_type": "markdown",
   "id": "a7ee6b16-aaad-47ee-8fdc-0735ed937e48",
   "metadata": {},
   "source": [
    "## 3) Functions & libraries\n",
    "When you install Python, it includes a **built-in** set of **functions** and **libraries**\n",
    "- A **function** is a bit of code that takes an input, does something with it, and returns an output\n",
    "- A **library** is a collection of code that can dramatically extend the functionality Python\n",
    "\n",
    "A function uses parentheses () to input the **argument(s)**\n",
    "\n",
    "You already know (at least) one Python function from last time: print()"
   ]
  },
  {
   "cell_type": "code",
   "execution_count": 28,
   "id": "33350c64-710f-428c-9dcc-e08177922bea",
   "metadata": {},
   "outputs": [
    {
     "name": "stdout",
     "output_type": "stream",
     "text": [
      "what's going on\n"
     ]
    }
   ],
   "source": [
    "print('what' \"'\" 's going on')"
   ]
  },
  {
   "cell_type": "markdown",
   "id": "dc4fa2de-5323-4105-a92e-20b6007e8743",
   "metadata": {},
   "source": [
    "### Finding help for a function\n",
    "1. use the help() function\n",
    "2. Google it!"
   ]
  },
  {
   "cell_type": "code",
   "execution_count": 29,
   "id": "95d71a63-193e-4fc5-8cd1-a64f9f956806",
   "metadata": {},
   "outputs": [
    {
     "ename": "NameError",
     "evalue": "name 'flush' is not defined",
     "output_type": "error",
     "traceback": [
      "\u001b[1;31m---------------------------------------------------------------------------\u001b[0m",
      "\u001b[1;31mNameError\u001b[0m                                 Traceback (most recent call last)",
      "Cell \u001b[1;32mIn[29], line 1\u001b[0m\n\u001b[1;32m----> 1\u001b[0m help(flush)\n",
      "\u001b[1;31mNameError\u001b[0m: name 'flush' is not defined"
     ]
    }
   ],
   "source": []
  },
  {
   "cell_type": "markdown",
   "id": "ca9fd567-7dbb-4f23-b1a2-b091991c2151",
   "metadata": {},
   "source": [
    "### Making your own function\n",
    "\n",
    "You can define your own functions! Let's see how that works..."
   ]
  },
  {
   "cell_type": "code",
   "execution_count": 44,
   "id": "d46d9df2-c5f0-4711-80e6-5bbe7cc24fa6",
   "metadata": {},
   "outputs": [],
   "source": [
    "def compute_average(list_values):\n",
    "    avg_value = sum(list_values)/len(list_values)\n",
    "    return avg_value"
   ]
  },
  {
   "cell_type": "markdown",
   "id": "6ce4ee16-7e81-44b1-afe0-30b2663856e0",
   "metadata": {},
   "source": [
    "OK now let's use our new function"
   ]
  },
  {
   "cell_type": "code",
   "execution_count": 45,
   "id": "2f35b883-600c-4ffc-b81f-d56257c628ff",
   "metadata": {},
   "outputs": [
    {
     "name": "stdout",
     "output_type": "stream",
     "text": [
      "39.75\n"
     ]
    }
   ],
   "source": [
    "ave = compute_average([20, 30,100,9])\n",
    "print(ave)"
   ]
  },
  {
   "cell_type": "markdown",
   "id": "808b8360-efce-4f8c-8211-11c1497c9944",
   "metadata": {},
   "source": [
    "OK cool our function works, but let's imagine someone else using it, or you using it weeks from now...\n"
   ]
  },
  {
   "cell_type": "code",
   "execution_count": 46,
   "id": "ae7a517d-90c3-41e4-bc3a-87f1062c391d",
   "metadata": {},
   "outputs": [
    {
     "ename": "TypeError",
     "evalue": "'int' object is not iterable",
     "output_type": "error",
     "traceback": [
      "\u001b[1;31m---------------------------------------------------------------------------\u001b[0m",
      "\u001b[1;31mTypeError\u001b[0m                                 Traceback (most recent call last)",
      "Cell \u001b[1;32mIn[46], line 1\u001b[0m\n\u001b[1;32m----> 1\u001b[0m compute_average(\u001b[38;5;241m20\u001b[39m)\n",
      "Cell \u001b[1;32mIn[44], line 2\u001b[0m, in \u001b[0;36mcompute_average\u001b[1;34m(list_values)\u001b[0m\n\u001b[0;32m      1\u001b[0m \u001b[38;5;28;01mdef\u001b[39;00m\u001b[38;5;250m \u001b[39m\u001b[38;5;21mcompute_average\u001b[39m(list_values):\n\u001b[1;32m----> 2\u001b[0m     avg_value \u001b[38;5;241m=\u001b[39m \u001b[38;5;28msum\u001b[39m(list_values)\u001b[38;5;241m/\u001b[39m\u001b[38;5;28mlen\u001b[39m(list_values)\n\u001b[0;32m      3\u001b[0m     \u001b[38;5;28;01mreturn\u001b[39;00m avg_value\n",
      "\u001b[1;31mTypeError\u001b[0m: 'int' object is not iterable"
     ]
    }
   ],
   "source": [
    "compute_average(20)"
   ]
  },
  {
   "cell_type": "code",
   "execution_count": 42,
   "id": "5c460ec2-3b07-4370-ae58-8362ca839577",
   "metadata": {},
   "outputs": [
    {
     "name": "stdout",
     "output_type": "stream",
     "text": [
      "Help on function compute_average in module __main__:\n",
      "\n",
      "compute_average(list_values)\n",
      "\n"
     ]
    }
   ],
   "source": [
    "help(compute_average)"
   ]
  },
  {
   "cell_type": "markdown",
   "id": "e64184e6-8bc5-4cd9-9aa0-d00e4a25aca8",
   "metadata": {},
   "source": [
    "** Good functions help the user understand how to use them, and prevent users from mis-using them. Let's improve our function with some **documentation** and some **input validation**"
   ]
  },
  {
   "cell_type": "code",
   "execution_count": 47,
   "id": "b0e0e0be-2f72-47e0-8997-237e4f59aac0",
   "metadata": {},
   "outputs": [],
   "source": [
    "def compute_average(list_values):\n",
    "    \"\"\"\n",
    "    Calculates the average of numbers in list_values\n",
    "    inputs: list_values; must be a list of numbers\n",
    "\n",
    "    outputs: avg_value (scalar)\n",
    "    \"\"\"\n",
    "    assert type(list_values) == list, 'Error: input must be a list'\n",
    "    avg_value = sum(list_values)/len(list_values)\n",
    "    return average"
   ]
  },
  {
   "cell_type": "code",
   "execution_count": 48,
   "id": "fb291557-387d-497f-b0ba-2c092fd1c382",
   "metadata": {},
   "outputs": [
    {
     "ename": "AssertionError",
     "evalue": "Error: input must be a list",
     "output_type": "error",
     "traceback": [
      "\u001b[1;31m---------------------------------------------------------------------------\u001b[0m",
      "\u001b[1;31mAssertionError\u001b[0m                            Traceback (most recent call last)",
      "Cell \u001b[1;32mIn[48], line 1\u001b[0m\n\u001b[1;32m----> 1\u001b[0m compute_average(\u001b[38;5;241m20\u001b[39m)\n",
      "Cell \u001b[1;32mIn[47], line 8\u001b[0m, in \u001b[0;36mcompute_average\u001b[1;34m(list_values)\u001b[0m\n\u001b[0;32m      1\u001b[0m \u001b[38;5;28;01mdef\u001b[39;00m\u001b[38;5;250m \u001b[39m\u001b[38;5;21mcompute_average\u001b[39m(list_values):\n\u001b[0;32m      2\u001b[0m \u001b[38;5;250m    \u001b[39m\u001b[38;5;124;03m\"\"\"\u001b[39;00m\n\u001b[0;32m      3\u001b[0m \u001b[38;5;124;03m    Calculates the average of numbers in list_values\u001b[39;00m\n\u001b[0;32m      4\u001b[0m \u001b[38;5;124;03m    inputs: list_values; must be a list of numbers\u001b[39;00m\n\u001b[0;32m      5\u001b[0m \n\u001b[0;32m      6\u001b[0m \u001b[38;5;124;03m    outputs: avg_value (scalar)\u001b[39;00m\n\u001b[0;32m      7\u001b[0m \u001b[38;5;124;03m    \"\"\"\u001b[39;00m\n\u001b[1;32m----> 8\u001b[0m     \u001b[38;5;28;01massert\u001b[39;00m \u001b[38;5;28mtype\u001b[39m(list_values) \u001b[38;5;241m==\u001b[39m \u001b[38;5;28mlist\u001b[39m, \u001b[38;5;124m'\u001b[39m\u001b[38;5;124mError: input must be a list\u001b[39m\u001b[38;5;124m'\u001b[39m\n\u001b[0;32m      9\u001b[0m     avg_value \u001b[38;5;241m=\u001b[39m \u001b[38;5;28msum\u001b[39m(list_values)\u001b[38;5;241m/\u001b[39m\u001b[38;5;28mlen\u001b[39m(list_values)\n\u001b[0;32m     10\u001b[0m     \u001b[38;5;28;01mreturn\u001b[39;00m average\n",
      "\u001b[1;31mAssertionError\u001b[0m: Error: input must be a list"
     ]
    }
   ],
   "source": [
    "compute_average(20)"
   ]
  },
  {
   "cell_type": "code",
   "execution_count": null,
   "id": "ffbaf4a7-6695-4d94-8d57-c95ec1078ecf",
   "metadata": {},
   "outputs": [],
   "source": []
  },
  {
   "cell_type": "markdown",
   "id": "f69cb688-8905-4a3a-bd82-f6792f7ea354",
   "metadata": {},
   "source": [
    "## Libraries\n",
    "Python doesn't have that many **built-in** **functions** - they are listed here:\n",
    "https://docs.python.org/3/library/functions.html\n",
    "\n",
    "If this were all we were limited to, Python would not be very useful for the sciences\n",
    "\n",
    "Python is expandable because of **libraries**\n",
    "To use a **library** you need to first **import** it"
   ]
  },
  {
   "cell_type": "markdown",
   "id": "e50fb39b-26c5-461d-9ab2-cf2f87d9ec82",
   "metadata": {},
   "source": [
    "### Importing NumPy and Matplotlib\n",
    "Let's import two community libraries:\n",
    "- **numpy** is for numerical computing\n",
    "- **Matplotlib** is for plotting\n",
    "\n",
    "These libraries must be installed before you can use them. If you are using the full Anaconda distribution, you should already have **numpy** and **matplotlib**, if not, you may need to install it\n",
    "\n",
    "We'll import numpy and the plotting module of matplotlib, called pyplot, with a shortcut variable to refer to them..."
   ]
  },
  {
   "cell_type": "code",
   "execution_count": 50,
   "id": "42222f20-3b12-4ce1-ab00-a39286095aea",
   "metadata": {},
   "outputs": [],
   "source": [
    "import numpy as np\n",
    "import matplotlib.pyplot as plt"
   ]
  },
  {
   "cell_type": "markdown",
   "id": "3178f30e-59ff-45b3-bf57-3b5cf746821f",
   "metadata": {},
   "source": [
    "## 4) NumPy and Matplotlib"
   ]
  },
  {
   "cell_type": "markdown",
   "id": "a02341d4-584f-4187-bbfe-2cd8349cdc10",
   "metadata": {},
   "source": [
    "### Using arrays in Numpy\n",
    "One of the big advantages of Numpy is that it has built in data types called arrays, which can be 1D (like a vector) or n-dimensional (like a matrix)\n",
    "\n",
    "Let's start by making a 1D array..."
   ]
  },
  {
   "cell_type": "code",
   "execution_count": 52,
   "id": "60cc930d-3488-46af-a52b-3e471bc3d474",
   "metadata": {},
   "outputs": [
    {
     "name": "stdout",
     "output_type": "stream",
     "text": [
      "[5 6 3 5 6 8]\n",
      "<class 'numpy.ndarray'>\n"
     ]
    }
   ],
   "source": [
    "counts = np.array([5,6,3,5,6,8])\n",
    "print(counts)\n",
    "print(type(counts))"
   ]
  },
  {
   "cell_type": "markdown",
   "id": "c3113da4-6965-4686-a90f-c7600756a87d",
   "metadata": {},
   "source": [
    "Indexing into numpy arrays works much like with other containers like lists"
   ]
  },
  {
   "cell_type": "code",
   "execution_count": 54,
   "id": "cb5cec08-6843-4292-b830-148bcf45aa84",
   "metadata": {},
   "outputs": [
    {
     "data": {
      "text/plain": [
       "array([5, 6])"
      ]
     },
     "execution_count": 54,
     "metadata": {},
     "output_type": "execute_result"
    }
   ],
   "source": [
    "counts[0:2]"
   ]
  },
  {
   "cell_type": "markdown",
   "id": "0be60b8c-2b9b-46e4-aa53-ecd07d9fc753",
   "metadata": {},
   "source": [
    "numpy gives us access to tools for computations on our arrays"
   ]
  },
  {
   "cell_type": "code",
   "execution_count": 57,
   "id": "e296d4ce-f4d3-47fd-be72-f4b1771949e7",
   "metadata": {},
   "outputs": [
    {
     "name": "stdout",
     "output_type": "stream",
     "text": [
      "33\n",
      "5.5\n",
      "1.5\n"
     ]
    }
   ],
   "source": [
    "print(np.sum(counts))\n",
    "print(np.mean(counts))\n",
    "print(np.std(counts))"
   ]
  },
  {
   "cell_type": "markdown",
   "id": "1a51f61f-4525-4a53-ac04-ad672858db00",
   "metadata": {},
   "source": [
    "## <span style='color:red;'>EXERCISE 2</span>: LEARN NUMPY FUNCTIONS ON YOUR OWN (5 min)\n",
    "Use the wonders of the internet, or your intuition, to figure out how to compute the **median** and **variance** of _counts_ using numpy functions"
   ]
  },
  {
   "cell_type": "code",
   "execution_count": 60,
   "id": "d40cd0c3-2023-4877-950e-efc334e1bbe2",
   "metadata": {},
   "outputs": [
    {
     "name": "stdout",
     "output_type": "stream",
     "text": [
      "5.5\n",
      "2.25\n"
     ]
    }
   ],
   "source": [
    "print(np.median(counts))\n",
    "print(np.var(counts))\n"
   ]
  },
  {
   "cell_type": "markdown",
   "id": "f19c9ad6-9c52-4cbe-8b39-064de571ece4",
   "metadata": {},
   "source": [
    "## matrices (ndarrays)\n",
    "Numpy also allows you to create matrices / n-dimensional arrays.\n",
    "Let's create a matrix to see how they work..."
   ]
  },
  {
   "cell_type": "code",
   "execution_count": null,
   "id": "ae7b8c08-d5d8-49d5-aab0-28a2408195bc",
   "metadata": {},
   "outputs": [],
   "source": []
  },
  {
   "cell_type": "markdown",
   "id": "8a8d867d-8e4f-46bd-98ea-ad9888587671",
   "metadata": {},
   "source": [
    "mat = np.array([[1, 2, 3], [4, 5, 6], [7, 8, 9], [10,11,12]])\n",
    "print(mat)"
   ]
  },
  {
   "cell_type": "code",
   "execution_count": 63,
   "id": "9dc6a7b5-1bc6-4084-9d1e-35a8be45fd0e",
   "metadata": {},
   "outputs": [
    {
     "data": {
      "text/plain": [
       "(4, 3)"
      ]
     },
     "execution_count": 63,
     "metadata": {},
     "output_type": "execute_result"
    }
   ],
   "source": [
    "np.shape(mat)"
   ]
  },
  {
   "cell_type": "markdown",
   "id": "8f9c1ae1-cedb-4922-8f7b-f5e6111a6a92",
   "metadata": {},
   "source": [
    "## <span style='color:red;'>EXERCISE 3</span>: LEARN NUMPY FUNCTIONS ON YOUR OWN PT 2 (5 min)\n",
    "Look up the numpy.mean() documentation to figure out how to compute the mean...\n",
    "- across all rows (should be an array of length 3)\n",
    "- across all columns (should be an array of length 4) \n",
    "- across the whole matrix (should be a single, scalar number)\n",
    "\n",
    "https://numpy.org/doc/2.3/reference/generated/numpy.mean.html"
   ]
  },
  {
   "cell_type": "code",
   "execution_count": 67,
   "id": "b637b563-ab83-49fa-b1ca-f235b57f1eac",
   "metadata": {},
   "outputs": [
    {
     "data": {
      "text/plain": [
       "array([ 2.,  5.,  8., 11.])"
      ]
     },
     "execution_count": 67,
     "metadata": {},
     "output_type": "execute_result"
    }
   ],
   "source": [
    "np.mean(mat)\n",
    "np.mean(mat, axis=1)"
   ]
  },
  {
   "cell_type": "markdown",
   "id": "64bb0743-5df6-43cf-8aa8-d52125da32f3",
   "metadata": {},
   "source": [
    "## Random numbers in numpy\n",
    "numpy has functions for generating pseudo-random numbers. Let's try one by plucking random numbers from a uniform distribution\n",
    "\n",
    "Then we'll use **pyplot** to plot a histogram. Note there are lots of ways to create figure and axis objects with pyplot but I will teach you what I think is the most explicit (and best) way..."
   ]
  },
  {
   "cell_type": "code",
   "execution_count": 73,
   "id": "d994d923-a381-4393-9d8e-7ee05fe25bca",
   "metadata": {},
   "outputs": [
    {
     "data": {
      "text/plain": [
       "Text(0, 0.5, 'Counts')"
      ]
     },
     "execution_count": 73,
     "metadata": {},
     "output_type": "execute_result"
    },
    {
     "data": {
      "image/png": "[encoded data removed]",
      "text/plain": [
       "<Figure size 300x300 with 1 Axes>"
      ]
     },
     "metadata": {},
     "output_type": "display_data"
    }
   ],
   "source": [
    "values = np.random.uniform(low=0, high=1, size=1000)\n",
    "fig, ax = plt.subplots(1,1,figsize=(3,3)) \n",
    "ax.hist(values)\n",
    "ax.set_xlabel('Random value')\n",
    "ax.set_ylabel('Counts')"
   ]
  },
  {
   "cell_type": "markdown",
   "id": "0e958bef-5671-4077-b3cc-472c37f487fb",
   "metadata": {},
   "source": [
    "## <span style='color:red;'>EXERCISE 4</span>: LEARN NUMPY FUNCTIONS ON YOUR OWN PT 3 (5 min)\n",
    "Look up the documentation for numpy.random distributions to see what random distributions numpy can draw from. Pick a distribution and some parameters, and then plot a histogram of 1000 draws from that distribution\n",
    "\n",
    "https://numpy.org/doc/2.1/reference/random/generator.html#distributions"
   ]
  },
  {
   "cell_type": "code",
   "execution_count": 83,
   "id": "81570eb1-9446-4275-b47c-55a124d7e692",
   "metadata": {},
   "outputs": [
    {
     "ename": "TypeError",
     "evalue": "gamma() takes at least 1 positional argument (0 given)",
     "output_type": "error",
     "traceback": [
      "\u001b[1;31m---------------------------------------------------------------------------\u001b[0m",
      "\u001b[1;31mTypeError\u001b[0m                                 Traceback (most recent call last)",
      "Cell \u001b[1;32mIn[83], line 1\u001b[0m\n\u001b[1;32m----> 1\u001b[0m log_values \u001b[38;5;241m=\u001b[39m np\u001b[38;5;241m.\u001b[39mrandom\u001b[38;5;241m.\u001b[39mgamma(loc \u001b[38;5;241m=\u001b[39m \u001b[38;5;241m1.0\u001b[39m)\n\u001b[0;32m      2\u001b[0m fig, ax\u001b[38;5;241m=\u001b[39mplt\u001b[38;5;241m.\u001b[39msubplots(\u001b[38;5;241m1\u001b[39m,\u001b[38;5;241m1\u001b[39m, figsize\u001b[38;5;241m=\u001b[39m(\u001b[38;5;241m4\u001b[39m,\u001b[38;5;241m4\u001b[39m))\n\u001b[0;32m      3\u001b[0m ax\u001b[38;5;241m.\u001b[39mhist(log_values)\n",
      "File \u001b[1;32mnumpy\\\\random\\\\mtrand.pyx:1668\u001b[0m, in \u001b[0;36mnumpy.random.mtrand.RandomState.gamma\u001b[1;34m()\u001b[0m\n",
      "\u001b[1;31mTypeError\u001b[0m: gamma() takes at least 1 positional argument (0 given)"
     ]
    }
   ],
   "source": [
    "log_values = np.random.gamma(loc = 1.0)\n",
    "fig, ax=plt.subplots(1,1, figsize=(4,4))\n",
    "ax.hist(log_values)\n",
    "ax.set_xlabel('Random value')\n",
    "ax.set_ylabel('Counts')"
   ]
  },
  {
   "cell_type": "markdown",
   "id": "73b2cfd3-3792-4874-98a1-ee2a26bc1d99",
   "metadata": {},
   "source": [
    "## BONUS: Modeling bacterial growth\n",
    "\n",
    "You are growing E. coli in a flask, and you measure optical density of the bacterial suspension using a spectrophotometer every 30 minutes for 5 hours.\n",
    "The optical density is directly related to the number of bacteria in the suspension"
   ]
  },
  {
   "cell_type": "code",
   "execution_count": null,
   "id": "ec1a5ce6-ca3e-4949-8493-aaaca163ab38",
   "metadata": {},
   "outputs": [],
   "source": [
    "time_points = np.array([0, 0.5, 1, 1.5, 2, 2.5, 3, 3.5, 4, 4.5, 5])\n",
    "optical_density = [30, 45, 92, 198, 404, 838, 1705, 3120, 3780, 4100, 4400]"
   ]
  },
  {
   "cell_type": "markdown",
   "id": "35fbe336-ecdf-433a-a419-54353d91d025",
   "metadata": {},
   "source": [
    "Let's plot the data using **pyplot**\n"
   ]
  },
  {
   "cell_type": "code",
   "execution_count": null,
   "id": "f0739d98-a892-4a16-b02e-f541faa31773",
   "metadata": {},
   "outputs": [],
   "source": []
  },
  {
   "cell_type": "markdown",
   "id": "64e4fce0-6f5d-44a9-9606-6804710572a8",
   "metadata": {},
   "source": [
    "Part of this growth curve is the **exponential phase**, where the number of bacteria double at regular intervals. This interval is called the doubling time\n",
    "\n",
    "**N(t) = N_0 * 2^(t/T_d)**\n",
    "- N(t) is the number of bacteria as a function of time, t\n",
    "- N_0 is the initial number of bacteria\n",
    "- T_d is the doubling time"
   ]
  },
  {
   "cell_type": "markdown",
   "id": "fa5be619-0c4e-4c94-8fb5-6a3c434410a5",
   "metadata": {},
   "source": [
    "\n",
    "Let's transform our optical density by log2...\n",
    "This makes our equation\n",
    "\n",
    "Log2(N(t)) = Log2(N_0) + t/T_D\n",
    "\n",
    "which is linear, of the form Y = mx + b, where the **slope m = 1/T_d**\n"
   ]
  },
  {
   "cell_type": "code",
   "execution_count": null,
   "id": "6d998334-4d11-423f-9f54-cc7e770e5bcf",
   "metadata": {},
   "outputs": [],
   "source": []
  },
  {
   "cell_type": "markdown",
   "id": "4fae8343-832c-4d57-912f-8a42340250ac",
   "metadata": {},
   "source": [
    "Now we're going to fit a line to our log-transformed data to estimate the doubling time. First note that the exponential phase is between about 0.5 and 3 hours..."
   ]
  },
  {
   "cell_type": "code",
   "execution_count": null,
   "id": "06f4849d-9b4d-488c-ab38-6d69ee4f9a38",
   "metadata": {},
   "outputs": [],
   "source": []
  },
  {
   "cell_type": "code",
   "execution_count": null,
   "id": "49bc7995-7612-4e94-b206-9ef0cfb1303d",
   "metadata": {},
   "outputs": [],
   "source": []
  }
 ],
 "metadata": {
  "kernelspec": {
   "display_name": "Python [conda env:base] *",
   "language": "python",
   "name": "conda-base-py"
  },
  "language_info": {
   "codemirror_mode": {
    "name": "ipython",
    "version": 3
   },
   "file_extension": ".py",
   "mimetype": "text/x-python",
   "name": "python",
   "nbconvert_exporter": "python",
   "pygments_lexer": "ipython3",
   "version": "3.13.5"
  }
 },
 "nbformat": 4,
 "nbformat_minor": 5
}
